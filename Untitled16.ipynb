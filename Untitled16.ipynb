{
  "nbformat": 4,
  "nbformat_minor": 0,
  "metadata": {
    "colab": {
      "provenance": [],
      "authorship_tag": "ABX9TyMkTpWk3HEu1zUrtvuQIi4a",
      "include_colab_link": true
    },
    "kernelspec": {
      "name": "python3",
      "display_name": "Python 3"
    },
    "language_info": {
      "name": "python"
    }
  },
  "cells": [
    {
      "cell_type": "markdown",
      "metadata": {
        "id": "view-in-github",
        "colab_type": "text"
      },
      "source": [
        "<a href=\"https://colab.research.google.com/github/shakeel645/Amazon-sales-Report/blob/main/Untitled16.ipynb\" target=\"_parent\"><img src=\"https://colab.research.google.com/assets/colab-badge.svg\" alt=\"Open In Colab\"/></a>"
      ]
    },
    {
      "cell_type": "code",
      "execution_count": 5,
      "metadata": {
        "colab": {
          "base_uri": "https://localhost:8080/"
        },
        "id": "5Ju5zNuoaDhT",
        "outputId": "e03261a9-64b4-4ac0-c3c3-02c345865428"
      },
      "outputs": [
        {
          "output_type": "stream",
          "name": "stderr",
          "text": [
            "[nltk_data] Downloading package movie_reviews to /root/nltk_data...\n",
            "[nltk_data]   Package movie_reviews is already up-to-date!\n"
          ]
        },
        {
          "output_type": "stream",
          "name": "stdout",
          "text": [
            "                                              review  sentiment\n",
            "0  plot : two teen couples go to a church party ,...          0\n",
            "1  the happy bastard's quick movie review \\ndamn ...          0\n",
            "2  it is movies like these that make a jaded movi...          0\n",
            "3   \" quest for camelot \" is warner bros . ' firs...          0\n",
            "4  synopsis : a mentally unstable man undergoing ...          0\n",
            "Accuracy: 0.82\n",
            "Classification Report:\n",
            "              precision    recall  f1-score   support\n",
            "\n",
            "           0       0.82      0.82      0.82       199\n",
            "           1       0.82      0.82      0.82       201\n",
            "\n",
            "    accuracy                           0.82       400\n",
            "   macro avg       0.82      0.82      0.82       400\n",
            "weighted avg       0.82      0.82      0.82       400\n",
            "\n",
            "Confusion Matrix:\n",
            "[[163  36]\n",
            " [ 36 165]]\n"
          ]
        }
      ],
      "source": [
        "import pandas as pd\n",
        "import nltk\n",
        "from nltk.corpus import movie_reviews\n",
        "from sklearn.model_selection import train_test_split\n",
        "from sklearn.feature_extraction.text import TfidfVectorizer\n",
        "from sklearn.linear_model import LogisticRegression\n",
        "from sklearn.metrics import accuracy_score, classification_report, confusion_matrix\n",
        "\n",
        "# Download the nltk dataset if not already done\n",
        "nltk.download('movie_reviews')\n",
        "\n",
        "# Step 1: Load the dataset\n",
        "# The dataset is provided by nltk's movie_reviews package\n",
        "\n",
        "# Load the reviews and their categories (positive/negative)\n",
        "reviews = []\n",
        "sentiments = []\n",
        "for fileid in movie_reviews.fileids():\n",
        "    reviews.append(movie_reviews.raw(fileid))\n",
        "    sentiments.append(1 if movie_reviews.categories(fileid)[0] == 'pos' else 0)\n",
        "\n",
        "# Create a DataFrame\n",
        "df = pd.DataFrame({'review': reviews, 'sentiment': sentiments})\n",
        "\n",
        "# Display the first few rows of the dataset\n",
        "print(df.head())\n",
        "\n",
        "# Step 2: Split the dataset into training and testing sets\n",
        "X = df['review']\n",
        "y = df['sentiment']\n",
        "\n",
        "X_train, X_test, y_train, y_test = train_test_split(X, y, test_size=0.2, random_state=42)\n",
        "\n",
        "# Step 3: Vectorize the text data using TF-IDF\n",
        "vectorizer = TfidfVectorizer(stop_words='english', max_features=5000)\n",
        "X_train_tfidf = vectorizer.fit_transform(X_train)\n",
        "X_test_tfidf = vectorizer.transform(X_test)\n",
        "\n",
        "# Step 4: Train the logistic regression model\n",
        "model = LogisticRegression()\n",
        "model.fit(X_train_tfidf, y_train)\n",
        "\n",
        "# Step 5: Make predictions on the test set\n",
        "y_pred = model.predict(X_test_tfidf)\n",
        "\n",
        "# Step 6: Evaluate the model\n",
        "accuracy = accuracy_score(y_test, y_pred)\n",
        "classification_rep = classification_report(y_test, y_pred)\n",
        "conf_matrix = confusion_matrix(y_test, y_pred)\n",
        "\n",
        "print(f'Accuracy: {accuracy:.2f}')\n",
        "print('Classification Report:')\n",
        "print(classification_rep)\n",
        "print('Confusion Matrix:')\n",
        "print(conf_matrix)\n"
      ]
    },
    {
      "cell_type": "code",
      "source": [
        "import pandas as pd\n",
        "import nltk\n",
        "from nltk.corpus import movie_reviews\n",
        "from sklearn.model_selection import train_test_split\n",
        "from sklearn.feature_extraction.text import TfidfVectorizer\n",
        "from sklearn.svm import SVC\n",
        "from sklearn.metrics import accuracy_score, classification_report, confusion_matrix\n",
        "\n",
        "# Download the nltk dataset if not already done\n",
        "nltk.download('movie_reviews')\n",
        "\n",
        "# Step 1: Load the dataset\n",
        "# The dataset is provided by nltk's movie_reviews package\n",
        "\n",
        "# Load the reviews and their categories (positive/negative)\n",
        "reviews = []\n",
        "sentiments = []\n",
        "for fileid in movie_reviews.fileids():\n",
        "    reviews.append(movie_reviews.raw(fileid))\n",
        "    sentiments.append(1 if movie_reviews.categories(fileid)[0] == 'pos' else 0)\n",
        "\n",
        "# Create a DataFrame\n",
        "df = pd.DataFrame({'review': reviews, 'sentiment': sentiments})\n",
        "\n",
        "# Display the first few rows of the dataset\n",
        "print(df.head())\n",
        "\n",
        "# Step 2: Split the dataset into training and testing sets\n",
        "X = df['review']\n",
        "y = df['sentiment']\n",
        "\n",
        "X_train, X_test, y_train, y_test = train_test_split(X, y, test_size=0.2, random_state=42)\n",
        "\n",
        "# Step 3: Vectorize the text data using TF-IDF\n",
        "vectorizer = TfidfVectorizer(stop_words='english', max_features=5000)\n",
        "X_train_tfidf = vectorizer.fit_transform(X_train)\n",
        "X_test_tfidf = vectorizer.transform(X_test)\n",
        "\n",
        "# Step 4: Train the SVM model\n",
        "model = SVC(kernel='linear')  # Using a linear kernel for text classification\n",
        "model.fit(X_train_tfidf, y_train)\n",
        "\n",
        "# Step 5: Make predictions on the test set\n",
        "y_pred = model.predict(X_test_tfidf)\n",
        "\n",
        "# Step 6: Evaluate the model\n",
        "accuracy = accuracy_score(y_test, y_pred)\n",
        "classification_rep = classification_report(y_test, y_pred)\n",
        "conf_matrix = confusion_matrix(y_test, y_pred)\n",
        "\n",
        "print(f'Accuracy: {accuracy:.2f}')\n",
        "print('Classification Report:')\n",
        "print(classification_rep)\n",
        "print('Confusion Matrix:')\n",
        "print(conf_matrix)\n"
      ],
      "metadata": {
        "colab": {
          "base_uri": "https://localhost:8080/"
        },
        "id": "Gc0yTTUedTKm",
        "outputId": "62b1338c-c27d-41a0-d68e-21c116c72f9e"
      },
      "execution_count": 6,
      "outputs": [
        {
          "output_type": "stream",
          "name": "stderr",
          "text": [
            "[nltk_data] Downloading package movie_reviews to /root/nltk_data...\n",
            "[nltk_data]   Package movie_reviews is already up-to-date!\n"
          ]
        },
        {
          "output_type": "stream",
          "name": "stdout",
          "text": [
            "                                              review  sentiment\n",
            "0  plot : two teen couples go to a church party ,...          0\n",
            "1  the happy bastard's quick movie review \\ndamn ...          0\n",
            "2  it is movies like these that make a jaded movi...          0\n",
            "3   \" quest for camelot \" is warner bros . ' firs...          0\n",
            "4  synopsis : a mentally unstable man undergoing ...          0\n",
            "Accuracy: 0.82\n",
            "Classification Report:\n",
            "              precision    recall  f1-score   support\n",
            "\n",
            "           0       0.83      0.81      0.82       199\n",
            "           1       0.82      0.84      0.83       201\n",
            "\n",
            "    accuracy                           0.82       400\n",
            "   macro avg       0.83      0.82      0.82       400\n",
            "weighted avg       0.83      0.82      0.82       400\n",
            "\n",
            "Confusion Matrix:\n",
            "[[162  37]\n",
            " [ 33 168]]\n"
          ]
        }
      ]
    }
  ]
}